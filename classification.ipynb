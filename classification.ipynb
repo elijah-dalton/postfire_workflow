{
  "nbformat": 4,
  "nbformat_minor": 0,
  "metadata": {
    "colab": {
      "name": "fireClassification_TODO_cleanUp.ipynb",
      "provenance": [],
      "collapsed_sections": []
    },
    "kernelspec": {
      "name": "python3",
      "display_name": "Python 3"
    }
  },
  "cells": [
    {
      "cell_type": "markdown",
      "metadata": {
        "id": "LAZiVi13zTE7"
      },
      "source": [
        "# Post fire vegetation monitoring classification\n",
        "\n",
        "This notebook runs the random forest classification for the post fire vegetation monitoring web app. "
      ]
    },
    {
      "cell_type": "code",
      "metadata": {
        "id": "NMp9Ei9b0XXL"
      },
      "source": [
        "# Import the Earth Engine library.\n",
        "import ee\n",
        "import math\n",
        "\n",
        "\n",
        "# Trigger the authentication flow.\n",
        "# ee.Authenticate()\n",
        "# Initialize the library.\n",
        "ee.Initialize()"
      ],
      "execution_count": 1,
      "outputs": []
    },
    {
      "cell_type": "code",
      "metadata": {
        "id": "3RCcshqGkAaz"
      },
      "source": [
        "\n",
        "fallComposite = ee.ImageCollection(\"users/TEST/CAFire/SeasonComposites/Fall_Full\")\n",
        "summerComposite = ee.ImageCollection(\"users/TEST/CAFire/SeasonComposites/Summer_Full\")\n"
      ],
      "execution_count": 2,
      "outputs": []
    },
    {
      "cell_type": "code",
      "metadata": {
        "id": "N-JRPqREk6S8"
      },
      "source": [
        "# ///////////////////////////////////////////////////////////////////////////////\n",
        "# // Function to add common (and less common) spectral indices to an image.\n",
        "# // Includes the Normalized Difference Spectral Vector from (Angiuli and Trianni, 2014)\n",
        "def addIndices(img):\n",
        "  # // Add Normalized Difference Spectral Vector (NDSV)\n",
        "  img = img.addBands(img.normalizedDifference(['blue','green']).rename('ND_blue_green'));\n",
        "  img = img.addBands(img.normalizedDifference(['blue','red']).rename('ND_blue_red'));\n",
        "  img = img.addBands(img.normalizedDifference(['blue','nir']).rename('ND_blue_nir'));\n",
        "  img = img.addBands(img.normalizedDifference(['blue','swir1']).rename('ND_blue_swir1'));\n",
        "  img = img.addBands(img.normalizedDifference(['blue','swir2']).rename('ND_blue_swir2'));\n",
        "\n",
        "  img = img.addBands(img.normalizedDifference(['green','red']).rename('ND_green_red'));\n",
        "  img = img.addBands(img.normalizedDifference(['green','nir']).rename('ND_green_nir')); #//NDWBI\n",
        "  img = img.addBands(img.normalizedDifference(['green','swir1']).rename('ND_green_swir1'));# //NDSI, MNDWI\n",
        "  img = img.addBands(img.normalizedDifference(['green','swir2']).rename('ND_green_swir2'));\n",
        "\n",
        "  img = img.addBands(img.normalizedDifference(['red','swir1']).rename('ND_red_swir1'));\n",
        "  img = img.addBands(img.normalizedDifference(['red','swir2']).rename('ND_red_swir2'));\n",
        "\n",
        "  img = img.addBands(img.normalizedDifference(['nir','red']).rename('ND_nir_red')); #//NDVI\n",
        "  img = img.addBands(img.normalizedDifference(['nir','swir1']).rename('ND_nir_swir1')); #//NDWI, LSWI, -NDBI\n",
        "  img = img.addBands(img.normalizedDifference(['nir','swir2']).rename('ND_nir_swir2')); #//NBR, MNDVI\n",
        "\n",
        "  img = img.addBands(img.normalizedDifference(['swir1','swir2']).rename('ND_swir1_swir2'));\n",
        "  \n",
        "  # // Add ratios\n",
        "  img = img.addBands(img.select('swir1').divide(img.select('nir')).rename('R_swir1_nir')); #//ratio 5/4\n",
        "  img = img.addBands(img.select('red').divide(img.select('swir1')).rename('R_red_swir1')); #// ratio 3/5\n",
        "\n",
        "  # // Add Enhanced Vegetation Index (EVI)\n",
        "  evi = img.expression(\n",
        "    '2.5 * ((NIR - RED) / (NIR + 6 * RED - 7.5 * BLUE + 1))', {\n",
        "      'NIR': img.select('nir'),\n",
        "      'RED': img.select('red'),\n",
        "      'BLUE': img.select('blue')\n",
        "  }).float();\n",
        "  img = img.addBands(evi.rename('EVI'));\n",
        "  \n",
        "  # // Add Soil Adjust Vegetation Index (SAVI)\n",
        "  # // using L = 0.5;\n",
        "  savi = img.expression(\n",
        "    '(NIR - RED) * (1 + 0.5)/(NIR + RED + 0.5)', {\n",
        "      'NIR': img.select('nir'),\n",
        "      'RED': img.select('red')\n",
        "  }).float();\n",
        "  img = img.addBands(savi.rename('SAVI'));\n",
        "  \n",
        "  # // Add Index-Based Built-Up Index (IBI)\n",
        "  ibi_a = img.expression(\n",
        "    '2*SWIR1/(SWIR1 + NIR)', {\n",
        "      'SWIR1': img.select('swir1'),\n",
        "      'NIR': img.select('nir')\n",
        "    }).rename('IBI_A');\n",
        "  ibi_b = img.expression(\n",
        "    '(NIR/(NIR + RED)) + (GREEN/(GREEN + SWIR1))', {\n",
        "      'NIR': img.select('nir'),\n",
        "      'RED': img.select('red'),\n",
        "      'GREEN': img.select('green'),\n",
        "      'SWIR1': img.select('swir1')\n",
        "    }).rename('IBI_B');\n",
        "  ibi_a = ibi_a.addBands(ibi_b);\n",
        "  ibi = ibi_a.normalizedDifference(['IBI_A','IBI_B']);\n",
        "  img = img.addBands(ibi.rename('IBI'));\n",
        "  \n",
        "  return img\n",
        "\n",
        "# ///////////////////////////////////////////////////////////////////////////////\n",
        "# // Function to compute the Tasseled Cap transformation and return an image\n",
        "# // with the following bands added: ['brightness', 'greenness', 'wetness', \n",
        "# // 'fourth', 'fifth', 'sixth']\n",
        "def getTasseledCap(image,bands):\n",
        "  # // Kauth-Thomas coefficients for Thematic Mapper data\n",
        "  coefficients = ee.Array([\n",
        "    [0.3037, 0.2793, 0.4743, 0.5585, 0.5082, 0.1863],\n",
        "    [-0.2848, -0.2435, -0.5436, 0.7243, 0.0840, -0.1800],\n",
        "    [0.1509, 0.1973, 0.3279, 0.3406, -0.7112, -0.4572],\n",
        "    [-0.8242, 0.0849, 0.4392, -0.0580, 0.2012, -0.2768],\n",
        "    [-0.3280, 0.0549, 0.1075, 0.1855, -0.4357, 0.8085],\n",
        "    [0.1084, -0.9022, 0.4120, 0.0573, -0.0251, 0.0238]\n",
        "  ]);\n",
        "  # // Make an Array Image, with a 1-D Array per pixel.\n",
        "  arrayImage1D = image.select(bands).toArray();\n",
        "  \n",
        "  # // Make an Array Image with a 2-D Array per pixel, 6x1.\n",
        "  arrayImage2D = arrayImage1D.toArray(1);\n",
        "  \n",
        "  componentsImage = ee.Image(coefficients)\\\n",
        "    .matrixMultiply(arrayImage2D)\\\n",
        "    .arrayProject([0])\\\n",
        "    .arrayFlatten([['brightness', 'greenness', 'wetness', 'fourth', 'fifth', 'sixth']]).float();\n",
        "  \n",
        "  return image.addBands(componentsImage);\n",
        "\n",
        "\n",
        "# // Function to add Tasseled Cap angles and distances to an image.\n",
        "# // Assumes image has bands: 'brightness', 'greenness', and 'wetness'.\n",
        "def addTCAngles(image):\n",
        "  # // Select brightness, greenness, and wetness bands\n",
        "  brightness = image.select(['brightness']);\n",
        "  greenness = image.select(['greenness']);\n",
        "  wetness = image.select(['wetness']);\n",
        "  \n",
        "  # // Calculate Tasseled Cap angles and distances\n",
        "  tcAngleBG = brightness.atan2(greenness).divide(math.pi).rename('tcAngleBG');\n",
        "  tcAngleGW = greenness.atan2(wetness).divide(math.pi).rename('tcAngleGW');\n",
        "  tcAngleBW = brightness.atan2(wetness).divide(math.pi).rename('tcAngleBW');\n",
        "  tcDistBG = brightness.hypot(greenness).rename('tcDistBG');\n",
        "  tcDistGW = greenness.hypot(wetness).rename('tcDistGW');\n",
        "  tcDistBW = brightness.hypot(wetness).rename('tcDistBW');\n",
        "  image = image.addBands(tcAngleBG).addBands(tcAngleGW)\\\n",
        "    .addBands(tcAngleBW).addBands(tcDistBG).addBands(tcDistGW)\\\n",
        "    .addBands(tcDistBW);\n",
        "  return image\n",
        "\n",
        "# // Function to add a prefix to all bands in an image\n",
        "def renameBands(image,prefix):\n",
        "  bandnames = image.bandNames();\n",
        "  def addCat(band):\n",
        "     band = ee.String(prefix).cat('_').cat(band);\n",
        "     return band\n",
        "  \n",
        "  bandnames = bandnames.map(addCat)\n",
        "  image = image.rename(bandnames);\n",
        "  return image\n",
        "\n",
        "elevation = ee.Image(\"JAXA/ALOS/AW3D30_V1_1\").select('MED').rename('elevation');\n",
        "def addTopography(img,region):\n",
        "  # // Import ALOS World 3D - 30m (AW3D30) global digital surface model (DSM) \n",
        "  # // Calculate slope, aspect, and hillshade\n",
        "  topo = ee.Algorithms.Terrain(elevation);\n",
        "  # topo = topo.clip(region);\n",
        "  # // From aspect (a), calculate eastness (sin a), northness (cos a)\n",
        "  deg2rad = ee.Number(math.pi).divide(180);\n",
        "  aspect = topo.select('aspect');\n",
        "  aspect_rad = aspect.multiply(deg2rad);\n",
        "  eastness = aspect_rad.sin().rename('eastness').float();\n",
        "  northness = aspect_rad.cos().rename('northness').float();\n",
        "  # // Add topography bands to image\n",
        "  topo = topo.select('elevation','slope','aspect').addBands(eastness).addBands(northness);\n",
        "  img = img.addBands(topo);\n",
        "  return img;\n",
        "\n"
      ],
      "execution_count": 3,
      "outputs": []
    },
    {
      "cell_type": "code",
      "metadata": {
        "id": "0y7tBJI-4_xf"
      },
      "source": [
        "studyArea = fallComposite.first().geometry().bounds()\n",
        "\n",
        "# // Choose year between 2000 and 2020:\n",
        "year = 2019;\n",
        "nTrees = 100;\n",
        "\n",
        "training = ee.FeatureCollection('projects/sig-ee/PostFireVeg/CAFires_traning_data_final')\n",
        "First_collection = fallComposite;\n",
        "Second_collection = summerComposite\n",
        "\n",
        "training_bands_2 = ee.List([\"Second_tcDistBG\", \"Second_stdDev\", \"Second_tcDistBW\", \"slope\", \"Second_nir\", \"Second_brightness\", \"First_tcDistBW\", \"First_brightness\",\n",
        "\"First_tcDistBG\", \"First_swir1\", \"elevation\", \"Second_fifth\", \"First_stdDev\", \"Second_tcDistGW\", \"Second_swir1\", \"Second_greenness\", \n",
        "\"First_tcDistGW\", \"Second_ND_green_swir1\", \"First_green\", \"First_red\", \"Second_ND_green_swir2\", \"Second_tcAngleGW\", \"First_nir\",\n",
        "\"Second_ND_red_swir1\", \"Second_ND_green_nir\", \"Second_ND_swir1_swir2\", \"First_ND_green_nir\", \"Second_temp\", \"First_tcAngleGW\",\n",
        "\"First_temp\", \"First_R_red_swir1\", \"First_ND_green_swir1\", \"First_ND_red_swir1\", \"First_greenness\", \"First_wetness\"])\n",
        "training_bands = training_bands_2 \n",
        "\n",
        "# // Choose export path root\n",
        "exportPathRoot = 'users/TEST/CAFire/RandomForest/RF_classification_v4_1';\n",
        "\n",
        "# // Metadata properties (modify if you want, but don't delete!)\n",
        "snippetName = 'Classification_RF_';\n",
        "projectName = 'NASA_Fire_Rcovery';\n",
        "versionNumber = 2;\n",
        "resolution = 30;\n",
        "classFieldName = 'land_class'\n",
        "tcInputBands = ee.List(['blue','green','red','nir','swir1','swir2'])\n",
        "modelType = 'rf'"
      ],
      "execution_count": 4,
      "outputs": []
    },
    {
      "cell_type": "code",
      "metadata": {
        "id": "hgqWR42C6-HZ",
        "colab": {
          "base_uri": "https://localhost:8080/"
        },
        "outputId": "674c60b9-632a-42e7-8a09-9ea4a076b5e8"
      },
      "source": [
        "First_collection = First_collection.map(addIndices);\n",
        "Second_collection = Second_collection.map(addIndices);\n",
        "\n",
        "# // Add tasseled cap transformation, tasseled cap angles, and NDSV\n",
        "def addTassels(img):\n",
        "  img = getTasseledCap(img,tcInputBands);\n",
        "  img = addTCAngles(img);\n",
        "  return img;\n",
        "First_collection = First_collection.map(addTassels)\n",
        "\n",
        "Second_collection = Second_collection.map(addTassels)\n",
        "\n",
        "# // Build composites used for visualization and classification\n",
        "First_composite = ee.Image(First_collection.filterDate(\n",
        "  ee.Date.fromYMD(year,1,1),ee.Date.fromYMD(year,12,31)).first());\n",
        "\n",
        "\n",
        "Second_composite = ee.Image(Second_collection.filterDate(\n",
        "  ee.Date.fromYMD(year,1,1),ee.Date.fromYMD(year,12,31)).first());\n",
        "\n",
        "# // Include standar devation bands\n",
        "stdDevBands = ee.List(['blue','green','red','nir','swir1','temp','swir2',\n",
        " 'ND_nir_red','ND_nir_swir2','ND_green_swir1']);\n",
        "First_stdDevComposite = First_composite.select(stdDevBands).reduce(ee.Reducer.stdDev());\n",
        "Second_stdDevComposite = Second_composite.select(stdDevBands).reduce(ee.Reducer.stdDev());\n",
        "\n",
        "\n",
        "# // Combine all bands and rename\n",
        "First_composite = First_composite.addBands(First_stdDevComposite);\n",
        "Second_composite = Second_composite.addBands(Second_stdDevComposite); \n",
        "First_composite = renameBands(First_composite,'First');\n",
        "Second_composite = renameBands(Second_composite,'Second');\n",
        "\n",
        "water = ee.Image('JRC/GSW1_0/GlobalSurfaceWater').mask(ee.Image(1));\n",
        "\n",
        "composite = First_composite.addBands(Second_composite).addBands(water);\n",
        "composite = addTopography(composite,studyArea);\n",
        "\n",
        "fullImage = composite.select(training_bands);\n",
        "bands = fullImage.bandNames();"
      ],
      "execution_count": 5,
      "outputs": [
        {
          "output_type": "stream",
          "text": [
            "['blue', 'green', 'red', 'nir', 'swir1', 'swir2', 'date', 'year', 'TDOMMask', 'cloudMask', 'count', 'temp', 'ND_blue_green', 'ND_blue_red', 'ND_blue_nir', 'ND_blue_swir1', 'ND_blue_swir2', 'ND_green_red', 'ND_green_nir', 'ND_green_swir1', 'ND_green_swir2', 'ND_red_swir1', 'ND_red_swir2', 'ND_nir_red', 'ND_nir_swir1', 'ND_nir_swir2', 'ND_swir1_swir2', 'R_swir1_nir', 'R_red_swir1', 'EVI', 'SAVI', 'IBI', 'brightness', 'greenness', 'wetness', 'fourth', 'fifth', 'sixth', 'tcAngleBG', 'tcAngleGW', 'tcAngleBW', 'tcDistBG', 'tcDistGW', 'tcDistBW']\n"
          ],
          "name": "stdout"
        }
      ]
    },
    {
      "cell_type": "code",
      "metadata": {
        "id": "OUP3nU0370Z5"
      },
      "source": [
        "classifier = ee.Classifier.smileRandomForest(numberOfTrees=nTrees,seed=0).train(training,classFieldName,bands)\n",
        "classification = fullImage.classify(classifier,'Mode')"
      ],
      "execution_count": 6,
      "outputs": []
    },
    {
      "cell_type": "code",
      "metadata": {
        "id": "Mxh2TnHZ_vy7",
        "colab": {
          "base_uri": "https://localhost:8080/"
        },
        "outputId": "e0e0301f-211b-4254-e689-cf27b8bc3a6b"
      },
      "source": [
        "print(classification.bandNames().getInfo())"
      ],
      "execution_count": 7,
      "outputs": [
        {
          "output_type": "stream",
          "text": [
            "['Mode']\n"
          ],
          "name": "stdout"
        }
      ]
    },
    {
      "cell_type": "code",
      "metadata": {
        "id": "EuxaSKw-87UR",
        "colab": {
          "base_uri": "https://localhost:8080/"
        },
        "outputId": "7774e529-31fb-4b61-b819-3941602fc654"
      },
      "source": [
        "# // Add metadata\n",
        "metadata = ee.Dictionary({\n",
        "  'system:time_start': ee.Date.fromYMD(year,6,1).millis(),\n",
        "  'date': ee.Date.fromYMD(year,6,1),\n",
        "  'snippet': snippetName,\n",
        "  'project': projectName,\n",
        "  'version': versionNumber,\n",
        "  # 'predictionBands': bandString,\n",
        "  'nTrees': nTrees\n",
        "});\n",
        "\n",
        "classificationBands = classification.bandNames();\n",
        "classification = classification.uint8().set(metadata);\n",
        "exportName = 'Classification_' + modelType + '_' + str(nTrees) + '_' + str(year);\n",
        "exportPath = exportPathRoot + '/' + exportName;\n",
        "print('Classification export path:', exportPath);"
      ],
      "execution_count": 13,
      "outputs": [
        {
          "output_type": "stream",
          "text": [
            "Classification export path: users/TEST/CAFire/RandomForest/RF_classification_v2/Classification_rf_100_2019\n"
          ],
          "name": "stdout"
        }
      ]
    },
    {
      "cell_type": "code",
      "metadata": {
        "id": "3cNosqqZOn5G"
      },
      "source": [
        "miniregion = First_composite.geometry().bounds()\t\t\n",
        "task_ordered= ee.batch.Export.image.toAsset(image=classification, \n",
        "\t\t\t\t\t\t\t\t  description = exportName, \n",
        "\t\t\t\t\t\t\t\t  assetId= exportPath,\n",
        "\t\t\t\t\t\t\t\t  region=miniregion.getInfo()['coordinates'], \n",
        "\t\t\t\t\t\t\t\t  maxPixels=1e13,\n",
        "\t\t\t\t\t\t\t\t  scale=30)\n",
        "\t"
      ],
      "execution_count": 14,
      "outputs": []
    },
    {
      "cell_type": "code",
      "metadata": {
        "id": "GFCTPZICPRq3"
      },
      "source": [
        "task_ordered.start()"
      ],
      "execution_count": 15,
      "outputs": []
    }
  ]
}